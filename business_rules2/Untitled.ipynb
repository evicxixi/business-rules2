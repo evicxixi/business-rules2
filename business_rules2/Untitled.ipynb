{
 "cells": [
  {
   "cell_type": "code",
   "execution_count": 1,
   "metadata": {},
   "outputs": [],
   "source": [
    "from business_rules2.parser import ExpressionParser\n",
    "from business_rules2.parser import RuleParser"
   ]
  },
  {
   "cell_type": "code",
   "execution_count": 4,
   "metadata": {},
   "outputs": [
    {
     "name": "stdout",
     "output_type": "stream",
     "text": [
      "[<business_rules2.parser.ComparisonExpr object at 0x7f49d03aa100>, <business_rules2.parser.LogicExpr object at 0x7f49d0260d30>, <business_rules2.parser.ComparisonExpr object at 0x7f49d01840a0>]\n",
      "[['a', '50']]\n"
     ]
    },
    {
     "data": {
      "text/plain": [
       "[{'rulename': \"'hallo'\",\n",
       "  'conditions': {'all': [{'name': 'condition',\n",
       "     'operator': 'less_than',\n",
       "     'value': 5},\n",
       "    {'name': 'x', 'operator': 'less_than', 'value': 3}]},\n",
       "  'actions': [{'name': 'dosomething', 'params': {'a': 50}}]}]"
      ]
     },
     "execution_count": 4,
     "metadata": {},
     "output_type": "execute_result"
    }
   ],
   "source": [
    "rule=\"\"\"\n",
    "rule 'hallo'\n",
    "when\n",
    "condition < 5 AND x<3\n",
    "then\n",
    "dosomething(a=50)\n",
    "end\n",
    "\"\"\"\n",
    "\n",
    "p= RuleParser()\n",
    "p.parsestr(rule)\n"
   ]
  }
 ],
 "metadata": {
  "kernelspec": {
   "display_name": "Python 3",
   "language": "python",
   "name": "python3"
  },
  "language_info": {
   "codemirror_mode": {
    "name": "ipython",
    "version": 3
   },
   "file_extension": ".py",
   "mimetype": "text/x-python",
   "name": "python",
   "nbconvert_exporter": "python",
   "pygments_lexer": "ipython3",
   "version": "3.8.2"
  }
 },
 "nbformat": 4,
 "nbformat_minor": 4
}
